{
  "nbformat": 4,
  "nbformat_minor": 0,
  "metadata": {
    "colab": {
      "provenance": [],
      "authorship_tag": "ABX9TyOqXaXzI5bjSZlc2ZynsFKf",
      "include_colab_link": true
    },
    "kernelspec": {
      "name": "python3",
      "display_name": "Python 3"
    },
    "language_info": {
      "name": "python"
    }
  },
  "cells": [
    {
      "cell_type": "markdown",
      "metadata": {
        "id": "view-in-github",
        "colab_type": "text"
      },
      "source": [
        "<a href=\"https://colab.research.google.com/github/zbarnea/FirstApp/blob/master/Porsche911.ipynb\" target=\"_parent\"><img src=\"https://colab.research.google.com/assets/colab-badge.svg\" alt=\"Open In Colab\"/></a>"
      ]
    },
    {
      "cell_type": "code",
      "execution_count": 2,
      "metadata": {
        "colab": {
          "base_uri": "https://localhost:8080/"
        },
        "id": "Kb9yhF81AJ8h",
        "outputId": "f7c8640d-b0cb-4936-b756-cd865df87e29"
      },
      "outputs": [
        {
          "output_type": "stream",
          "name": "stdout",
          "text": [
            "Successful Bootstrap!!!\n"
          ]
        }
      ],
      "source": [
        "#Remove Preexisting Files\n",
        "! rm -rf NBA-Machine-Learning-Sports-Betting\n",
        "! rm -rf *\n",
        "\n",
        "#Bootstrap Files\n",
        "! git clone https://github.com/kyleskom/NBA-Machine-Learning-Sports-Betting.git\n",
        "! mv -v ./NBA-Machine-Learning-Sports-Betting/* .\n",
        "! pip3 install -r requirements.txt\n",
        "\n",
        "#Clear Bootstrap Logs\n",
        "from IPython.display import clear_output \n",
        "clear_output()\n",
        "\n",
        "print(\"Successful Bootstrap!!!\")"
      ]
    },
    {
      "cell_type": "code",
      "source": [
        "!python3 /content/main.py -A -odds=fanduel"
      ],
      "metadata": {
        "colab": {
          "base_uri": "https://localhost:8080/"
        },
        "id": "C7iX9MIhBt0t",
        "outputId": "9eba92c3-6376-4d58-d0fe-be656c627fe0"
      },
      "execution_count": 3,
      "outputs": [
        {
          "output_type": "stream",
          "name": "stdout",
          "text": [
            "2023-03-06 22:24:06.794200: I tensorflow/core/platform/cpu_feature_guard.cc:193] This TensorFlow binary is optimized with oneAPI Deep Neural Network Library (oneDNN) to use the following CPU instructions in performance-critical operations:  AVX2 FMA\n",
            "To enable them in other operations, rebuild TensorFlow with the appropriate compiler flags.\n",
            "2023-03-06 22:24:08.756361: W tensorflow/compiler/xla/stream_executor/platform/default/dso_loader.cc:64] Could not load dynamic library 'libnvinfer.so.7'; dlerror: libnvinfer.so.7: cannot open shared object file: No such file or directory; LD_LIBRARY_PATH: /usr/local/nvidia/lib:/usr/local/nvidia/lib64\n",
            "2023-03-06 22:24:08.756567: W tensorflow/compiler/xla/stream_executor/platform/default/dso_loader.cc:64] Could not load dynamic library 'libnvinfer_plugin.so.7'; dlerror: libnvinfer_plugin.so.7: cannot open shared object file: No such file or directory; LD_LIBRARY_PATH: /usr/local/nvidia/lib:/usr/local/nvidia/lib64\n",
            "2023-03-06 22:24:08.756596: W tensorflow/compiler/tf2tensorrt/utils/py_utils.cc:38] TF-TRT Warning: Cannot dlopen some TensorRT libraries. If you would like to use Nvidia GPU with TensorRT, please make sure the missing libraries mentioned above are installed properly.\n",
            "2023-03-06 22:24:10.859195: E tensorflow/compiler/xla/stream_executor/cuda/cuda_driver.cc:267] failed call to cuInit: CUDA_ERROR_NO_DEVICE: no CUDA-capable device is detected\n",
            "[22:24:13] WARNING: ../src/learner.cc:888: Found JSON model saved before XGBoost 1.6, please save the model using current version again. The support for old JSON model will be discontinued in XGBoost 2.3.\n",
            "[22:24:13] WARNING: ../src/learner.cc:888: Found JSON model saved before XGBoost 1.6, please save the model using current version again. The support for old JSON model will be discontinued in XGBoost 2.3.\n",
            "------------------fanduel odds data------------------\n",
            "Philadelphia 76ers (-300) @ Indiana Pacers (245)\n",
            "Boston Celtics (245) @ Cleveland Cavaliers (-300)\n",
            "Portland Trail Blazers (-220) @ Detroit Pistons (180)\n",
            "Atlanta Hawks (122) @ Miami Heat (-144)\n",
            "Toronto Raptors (194) @ Denver Nuggets (-235)\n",
            "New Orleans Pelicans (188) @ Sacramento Kings (-225)\n",
            "---------------XGBoost Model Predictions---------------\n",
            "\u001b[31mIndiana Pacers\u001b[0m vs \u001b[32mPhiladelphia 76ers\u001b[0m\u001b[36m (63.2%)\u001b[0m: \u001b[34mOVER \u001b[0m232.5\u001b[0m\u001b[36m (54.4%)\u001b[0m\n",
            "\u001b[32mCleveland Cavaliers\u001b[0m\u001b[36m (61.5%)\u001b[0m vs \u001b[31mBoston Celtics\u001b[0m: \u001b[34mOVER \u001b[0m218\u001b[0m\u001b[36m (51.7%)\u001b[0m\n",
            "\u001b[31mDetroit Pistons\u001b[0m vs \u001b[32mPortland Trail Blazers\u001b[0m\u001b[36m (68.6%)\u001b[0m: \u001b[34mOVER \u001b[0m230\u001b[0m\u001b[36m (52.8%)\u001b[0m\n",
            "\u001b[32mMiami Heat\u001b[0m\u001b[36m (58.6%)\u001b[0m vs \u001b[31mAtlanta Hawks\u001b[0m: \u001b[34mOVER \u001b[0m229.5\u001b[0m\u001b[36m (55.7%)\u001b[0m\n",
            "\u001b[32mDenver Nuggets\u001b[0m\u001b[36m (72.3%)\u001b[0m vs \u001b[31mToronto Raptors\u001b[0m: \u001b[35mUNDER \u001b[0m229\u001b[0m\u001b[36m (50.5%)\u001b[0m\n",
            "\u001b[32mSacramento Kings\u001b[0m\u001b[36m (63.1%)\u001b[0m vs \u001b[31mNew Orleans Pelicans\u001b[0m: \u001b[35mUNDER \u001b[0m237.5\u001b[0m\u001b[36m (66.1%)\u001b[0m\n",
            "--------------------Expected Value---------------------\n",
            "Indiana Pacers EV: \u001b[32m26.97\u001b[0m\n",
            "Philadelphia 76ers EV: \u001b[31m-15.74\u001b[0m\n",
            "Cleveland Cavaliers EV: \u001b[31m-17.96\u001b[0m\n",
            "Boston Celtics EV: \u001b[32m32.73\u001b[0m\n",
            "Detroit Pistons EV: \u001b[31m-11.97\u001b[0m\n",
            "Portland Trail Blazers EV: \u001b[31m-0.27\u001b[0m\n",
            "Miami Heat EV: \u001b[31m-0.66\u001b[0m\n",
            "Atlanta Hawks EV: \u001b[31m-8.15\u001b[0m\n",
            "Denver Nuggets EV: \u001b[32m3.11\u001b[0m\n",
            "Toronto Raptors EV: \u001b[31m-18.65\u001b[0m\n",
            "Sacramento Kings EV: \u001b[31m-8.79\u001b[0m\n",
            "New Orleans Pelicans EV: \u001b[32m6.14\u001b[0m\n",
            "-------------------------------------------------------\n",
            "------------Neural Network Model Predictions-----------\n",
            "1/1 [==============================] - 0s 311ms/step\n",
            "1/1 [==============================] - 0s 23ms/step\n",
            "1/1 [==============================] - 0s 23ms/step\n",
            "1/1 [==============================] - 0s 23ms/step\n",
            "1/1 [==============================] - 0s 23ms/step\n",
            "1/1 [==============================] - 0s 24ms/step\n",
            "1/1 [==============================] - 0s 63ms/step\n",
            "1/1 [==============================] - 0s 23ms/step\n",
            "1/1 [==============================] - 0s 22ms/step\n",
            "1/1 [==============================] - 0s 24ms/step\n",
            "1/1 [==============================] - 0s 23ms/step\n",
            "1/1 [==============================] - 0s 23ms/step\n",
            "\u001b[31mIndiana Pacers\u001b[0m vs \u001b[32mPhiladelphia 76ers\u001b[0m\u001b[36m (67.6%)\u001b[0m: \u001b[35mUNDER \u001b[0m232.5\u001b[0m\u001b[36m (51.1%)\u001b[0m\n",
            "\u001b[31mCleveland Cavaliers\u001b[0m vs \u001b[32mBoston Celtics\u001b[0m\u001b[36m (52.4%)\u001b[0m: \u001b[34mOVER \u001b[0m218\u001b[0m\u001b[36m (50.0%)\u001b[0m\n",
            "\u001b[31mDetroit Pistons\u001b[0m vs \u001b[32mPortland Trail Blazers\u001b[0m\u001b[36m (62.6%)\u001b[0m: \u001b[34mOVER \u001b[0m230\u001b[0m\u001b[36m (50.3%)\u001b[0m\n",
            "\u001b[32mMiami Heat\u001b[0m\u001b[36m (60.9%)\u001b[0m vs \u001b[31mAtlanta Hawks\u001b[0m: \u001b[34mOVER \u001b[0m229.5\u001b[0m\u001b[36m (51.4%)\u001b[0m\n",
            "\u001b[32mDenver Nuggets\u001b[0m\u001b[36m (79.6%)\u001b[0m vs \u001b[31mToronto Raptors\u001b[0m: \u001b[34mOVER \u001b[0m229\u001b[0m\u001b[36m (51.5%)\u001b[0m\n",
            "\u001b[32mSacramento Kings\u001b[0m\u001b[36m (69.2%)\u001b[0m vs \u001b[31mNew Orleans Pelicans\u001b[0m: \u001b[34mOVER \u001b[0m237.5\u001b[0m\u001b[36m (50.5%)\u001b[0m\n",
            "--------------------Expected Value---------------------\n",
            "Indiana Pacers EV: \u001b[32m11.72\u001b[0m\n",
            "Philadelphia 76ers EV: \u001b[31m-9.84\u001b[0m\n",
            "Cleveland Cavaliers EV: \u001b[31m-36.57\u001b[0m\n",
            "Boston Celtics EV: \u001b[32m80.86\u001b[0m\n",
            "Detroit Pistons EV: \u001b[32m4.72\u001b[0m\n",
            "Portland Trail Blazers EV: \u001b[31m-8.95\u001b[0m\n",
            "Miami Heat EV: \u001b[32m3.26\u001b[0m\n",
            "Atlanta Hawks EV: \u001b[31m-13.29\u001b[0m\n",
            "Denver Nuggets EV: \u001b[32m13.54\u001b[0m\n",
            "Toronto Raptors EV: \u001b[31m-40.16\u001b[0m\n",
            "Sacramento Kings EV: \u001b[31m0.0\u001b[0m\n",
            "New Orleans Pelicans EV: \u001b[31m-11.39\u001b[0m\n",
            "-------------------------------------------------------\n",
            "\u001b[0m"
          ]
        }
      ]
    }
  ]
}